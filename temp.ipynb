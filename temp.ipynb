{
 "cells": [
  {
   "cell_type": "code",
   "execution_count": 5,
   "metadata": {},
   "outputs": [],
   "source": [
    "import pandas as pd"
   ]
  },
  {
   "cell_type": "code",
   "execution_count": 64,
   "metadata": {},
   "outputs": [
    {
     "data": {
      "text/html": [
       "<div>\n",
       "<style scoped>\n",
       "    .dataframe tbody tr th:only-of-type {\n",
       "        vertical-align: middle;\n",
       "    }\n",
       "\n",
       "    .dataframe tbody tr th {\n",
       "        vertical-align: top;\n",
       "    }\n",
       "\n",
       "    .dataframe thead th {\n",
       "        text-align: right;\n",
       "    }\n",
       "</style>\n",
       "<table border=\"1\" class=\"dataframe\">\n",
       "  <thead>\n",
       "    <tr style=\"text-align: right;\">\n",
       "      <th></th>\n",
       "      <th>Efternamn</th>\n",
       "      <th>Antal bärare</th>\n",
       "    </tr>\n",
       "  </thead>\n",
       "  <tbody>\n",
       "    <tr>\n",
       "      <th>0</th>\n",
       "      <td>A</td>\n",
       "      <td>3</td>\n",
       "    </tr>\n",
       "    <tr>\n",
       "      <th>1</th>\n",
       "      <td>A ALRAHMAN</td>\n",
       "      <td>2</td>\n",
       "    </tr>\n",
       "    <tr>\n",
       "      <th>2</th>\n",
       "      <td>A ALWAHHAB</td>\n",
       "      <td>2</td>\n",
       "    </tr>\n",
       "    <tr>\n",
       "      <th>3</th>\n",
       "      <td>A ANTHONY</td>\n",
       "      <td>15</td>\n",
       "    </tr>\n",
       "    <tr>\n",
       "      <th>4</th>\n",
       "      <td>A BAKI</td>\n",
       "      <td>2</td>\n",
       "    </tr>\n",
       "    <tr>\n",
       "      <th>...</th>\n",
       "      <td>...</td>\n",
       "      <td>...</td>\n",
       "    </tr>\n",
       "    <tr>\n",
       "      <th>411793</th>\n",
       "      <td>ÜÇPINAR</td>\n",
       "      <td>3</td>\n",
       "    </tr>\n",
       "    <tr>\n",
       "      <th>411794</th>\n",
       "      <td>ÜÜRIKE</td>\n",
       "      <td>3</td>\n",
       "    </tr>\n",
       "    <tr>\n",
       "      <th>411795</th>\n",
       "      <td>ÞORVALDSDÓTTIR</td>\n",
       "      <td>2</td>\n",
       "    </tr>\n",
       "    <tr>\n",
       "      <th>411796</th>\n",
       "      <td>ÞRASTARDÓTTIR</td>\n",
       "      <td>2</td>\n",
       "    </tr>\n",
       "    <tr>\n",
       "      <th>411797</th>\n",
       "      <td>ÞÓRHALLSDÓTTIR</td>\n",
       "      <td>2</td>\n",
       "    </tr>\n",
       "  </tbody>\n",
       "</table>\n",
       "<p>411798 rows × 2 columns</p>\n",
       "</div>"
      ],
      "text/plain": [
       "             Efternamn Antal bärare\n",
       "0                    A            3\n",
       "1           A ALRAHMAN            2\n",
       "2           A ALWAHHAB            2\n",
       "3            A ANTHONY           15\n",
       "4               A BAKI            2\n",
       "...                ...          ...\n",
       "411793         ÜÇPINAR            3\n",
       "411794          ÜÜRIKE            3\n",
       "411795  ÞORVALDSDÓTTIR            2\n",
       "411796   ÞRASTARDÓTTIR            2\n",
       "411797  ÞÓRHALLSDÓTTIR            2\n",
       "\n",
       "[411798 rows x 2 columns]"
      ]
     },
     "execution_count": 64,
     "metadata": {},
     "output_type": "execute_result"
    }
   ],
   "source": [
    "path = \"data/names/Efternamn-Table 1.csv\"\n",
    "\n",
    "efternamn = pd.read_csv(path, header=4, sep=\";\").iloc[:, 0:2]\n",
    "efternamn"
   ]
  },
  {
   "cell_type": "code",
   "execution_count": 23,
   "metadata": {},
   "outputs": [
    {
     "data": {
      "text/html": [
       "<div>\n",
       "<style scoped>\n",
       "    .dataframe tbody tr th:only-of-type {\n",
       "        vertical-align: middle;\n",
       "    }\n",
       "\n",
       "    .dataframe tbody tr th {\n",
       "        vertical-align: top;\n",
       "    }\n",
       "\n",
       "    .dataframe thead th {\n",
       "        text-align: right;\n",
       "    }\n",
       "</style>\n",
       "<table border=\"1\" class=\"dataframe\">\n",
       "  <thead>\n",
       "    <tr style=\"text-align: right;\">\n",
       "      <th></th>\n",
       "      <th>Förnamn</th>\n",
       "      <th>Antal bärare</th>\n",
       "    </tr>\n",
       "  </thead>\n",
       "  <tbody>\n",
       "    <tr>\n",
       "      <th>0</th>\n",
       "      <td>A</td>\n",
       "      <td>942</td>\n",
       "    </tr>\n",
       "    <tr>\n",
       "      <th>1</th>\n",
       "      <td>A-C</td>\n",
       "      <td>4</td>\n",
       "    </tr>\n",
       "    <tr>\n",
       "      <th>2</th>\n",
       "      <td>A-K</td>\n",
       "      <td>2</td>\n",
       "    </tr>\n",
       "    <tr>\n",
       "      <th>3</th>\n",
       "      <td>A-M</td>\n",
       "      <td>4</td>\n",
       "    </tr>\n",
       "    <tr>\n",
       "      <th>4</th>\n",
       "      <td>AABA</td>\n",
       "      <td>2</td>\n",
       "    </tr>\n",
       "  </tbody>\n",
       "</table>\n",
       "</div>"
      ],
      "text/plain": [
       "  Förnamn Antal bärare\n",
       "0       A          942\n",
       "1     A-C            4\n",
       "2     A-K            2\n",
       "3     A-M            4\n",
       "4    AABA            2"
      ]
     },
     "execution_count": 23,
     "metadata": {},
     "output_type": "execute_result"
    }
   ],
   "source": [
    "path = \"data/names/Förnamn kvinnor-Table 1.csv\"\n",
    "\n",
    "för_kvinn = pd.read_csv(path, header=4, sep=\";\").iloc[:, 0:2]\n",
    "för_kvinn.head(5)"
   ]
  },
  {
   "cell_type": "code",
   "execution_count": 51,
   "metadata": {},
   "outputs": [
    {
     "data": {
      "text/plain": [
       "Series([], Name: Antal bärare, dtype: object)"
      ]
     },
     "execution_count": 51,
     "metadata": {},
     "output_type": "execute_result"
    }
   ],
   "source": [
    "för_kvinn.query(\"Förnamn=='odsad'\")['Antal bärare']"
   ]
  },
  {
   "cell_type": "code",
   "execution_count": 50,
   "metadata": {},
   "outputs": [
    {
     "data": {
      "text/html": [
       "<div>\n",
       "<style scoped>\n",
       "    .dataframe tbody tr th:only-of-type {\n",
       "        vertical-align: middle;\n",
       "    }\n",
       "\n",
       "    .dataframe tbody tr th {\n",
       "        vertical-align: top;\n",
       "    }\n",
       "\n",
       "    .dataframe thead th {\n",
       "        text-align: right;\n",
       "    }\n",
       "</style>\n",
       "<table border=\"1\" class=\"dataframe\">\n",
       "  <thead>\n",
       "    <tr style=\"text-align: right;\">\n",
       "      <th></th>\n",
       "      <th>Förnamn</th>\n",
       "      <th>Antal bärare</th>\n",
       "    </tr>\n",
       "  </thead>\n",
       "  <tbody>\n",
       "    <tr>\n",
       "      <th>0</th>\n",
       "      <td>A</td>\n",
       "      <td>1 238</td>\n",
       "    </tr>\n",
       "    <tr>\n",
       "      <th>1</th>\n",
       "      <td>A:SON</td>\n",
       "      <td>6</td>\n",
       "    </tr>\n",
       "    <tr>\n",
       "      <th>2</th>\n",
       "      <td>AABAN</td>\n",
       "      <td>8</td>\n",
       "    </tr>\n",
       "    <tr>\n",
       "      <th>3</th>\n",
       "      <td>AABDI</td>\n",
       "      <td>4</td>\n",
       "    </tr>\n",
       "    <tr>\n",
       "      <th>4</th>\n",
       "      <td>AABED</td>\n",
       "      <td>2</td>\n",
       "    </tr>\n",
       "  </tbody>\n",
       "</table>\n",
       "</div>"
      ],
      "text/plain": [
       "  Förnamn Antal bärare\n",
       "0       A        1 238\n",
       "1   A:SON            6\n",
       "2   AABAN            8\n",
       "3   AABDI            4\n",
       "4   AABED            2"
      ]
     },
     "execution_count": 50,
     "metadata": {},
     "output_type": "execute_result"
    }
   ],
   "source": [
    "path = \"data/names/Förnamn män-Table 1.csv\"\n",
    "\n",
    "för_man = pd.read_csv(path, header=4, sep=\";\").iloc[:, 0:2]\n",
    "för_man.head(5)"
   ]
  },
  {
   "cell_type": "code",
   "execution_count": 68,
   "metadata": {},
   "outputs": [
    {
     "data": {
      "text/html": [
       "<div>\n",
       "<style scoped>\n",
       "    .dataframe tbody tr th:only-of-type {\n",
       "        vertical-align: middle;\n",
       "    }\n",
       "\n",
       "    .dataframe tbody tr th {\n",
       "        vertical-align: top;\n",
       "    }\n",
       "\n",
       "    .dataframe thead th {\n",
       "        text-align: right;\n",
       "    }\n",
       "</style>\n",
       "<table border=\"1\" class=\"dataframe\">\n",
       "  <thead>\n",
       "    <tr style=\"text-align: right;\">\n",
       "      <th></th>\n",
       "      <th>Tilltalsnamn</th>\n",
       "      <th>Antal bärare</th>\n",
       "    </tr>\n",
       "  </thead>\n",
       "  <tbody>\n",
       "    <tr>\n",
       "      <th>0</th>\n",
       "      <td>A</td>\n",
       "      <td>120</td>\n",
       "    </tr>\n",
       "    <tr>\n",
       "      <th>1</th>\n",
       "      <td>AABAN</td>\n",
       "      <td>3</td>\n",
       "    </tr>\n",
       "    <tr>\n",
       "      <th>2</th>\n",
       "      <td>AABID</td>\n",
       "      <td>4</td>\n",
       "    </tr>\n",
       "    <tr>\n",
       "      <th>3</th>\n",
       "      <td>AAD</td>\n",
       "      <td>2</td>\n",
       "    </tr>\n",
       "    <tr>\n",
       "      <th>4</th>\n",
       "      <td>AADAM</td>\n",
       "      <td>21</td>\n",
       "    </tr>\n",
       "  </tbody>\n",
       "</table>\n",
       "</div>"
      ],
      "text/plain": [
       "  Tilltalsnamn Antal bärare\n",
       "0            A          120\n",
       "1        AABAN            3\n",
       "2        AABID            4\n",
       "3          AAD            2\n",
       "4        AADAM           21"
      ]
     },
     "execution_count": 68,
     "metadata": {},
     "output_type": "execute_result"
    }
   ],
   "source": [
    "path = \"data/names/Tilltalsnamn män-Table 1.csv\"\n",
    "\n",
    "till_man = pd.read_csv(path, header=4, sep=\";\").iloc[:, 0:2]\n",
    "till_man.head(5)"
   ]
  },
  {
   "cell_type": "code",
   "execution_count": 69,
   "metadata": {},
   "outputs": [
    {
     "data": {
      "text/html": [
       "<div>\n",
       "<style scoped>\n",
       "    .dataframe tbody tr th:only-of-type {\n",
       "        vertical-align: middle;\n",
       "    }\n",
       "\n",
       "    .dataframe tbody tr th {\n",
       "        vertical-align: top;\n",
       "    }\n",
       "\n",
       "    .dataframe thead th {\n",
       "        text-align: right;\n",
       "    }\n",
       "</style>\n",
       "<table border=\"1\" class=\"dataframe\">\n",
       "  <thead>\n",
       "    <tr style=\"text-align: right;\">\n",
       "      <th></th>\n",
       "      <th>Tilltalsnamn</th>\n",
       "      <th>Antal bärare</th>\n",
       "    </tr>\n",
       "  </thead>\n",
       "  <tbody>\n",
       "    <tr>\n",
       "      <th>0</th>\n",
       "      <td>A</td>\n",
       "      <td>42</td>\n",
       "    </tr>\n",
       "    <tr>\n",
       "      <th>1</th>\n",
       "      <td>AABA</td>\n",
       "      <td>2</td>\n",
       "    </tr>\n",
       "    <tr>\n",
       "      <th>2</th>\n",
       "      <td>AABHA</td>\n",
       "      <td>2</td>\n",
       "    </tr>\n",
       "    <tr>\n",
       "      <th>3</th>\n",
       "      <td>AADA</td>\n",
       "      <td>14</td>\n",
       "    </tr>\n",
       "    <tr>\n",
       "      <th>4</th>\n",
       "      <td>AADHIRA</td>\n",
       "      <td>8</td>\n",
       "    </tr>\n",
       "  </tbody>\n",
       "</table>\n",
       "</div>"
      ],
      "text/plain": [
       "  Tilltalsnamn Antal bärare\n",
       "0            A           42\n",
       "1         AABA            2\n",
       "2        AABHA            2\n",
       "3         AADA           14\n",
       "4      AADHIRA            8"
      ]
     },
     "execution_count": 69,
     "metadata": {},
     "output_type": "execute_result"
    }
   ],
   "source": [
    "path = \"data/names/Tilltalsnamn kvinnor-Table 1.csv\"\n",
    "\n",
    "till_kvin = pd.read_csv(path, header=4, sep=\";\").iloc[:, 0:2]\n",
    "till_kvin.head(5)"
   ]
  },
  {
   "cell_type": "code",
   "execution_count": 73,
   "metadata": {},
   "outputs": [],
   "source": [
    "#inner join on names\n",
    "\n",
    "m1 = efternamn.merge(för_kvinn, left_on='Efternamn', right_on='Förnamn', how='inner')"
   ]
  },
  {
   "cell_type": "code",
   "execution_count": 74,
   "metadata": {},
   "outputs": [
    {
     "data": {
      "text/html": [
       "<div>\n",
       "<style scoped>\n",
       "    .dataframe tbody tr th:only-of-type {\n",
       "        vertical-align: middle;\n",
       "    }\n",
       "\n",
       "    .dataframe tbody tr th {\n",
       "        vertical-align: top;\n",
       "    }\n",
       "\n",
       "    .dataframe thead th {\n",
       "        text-align: right;\n",
       "    }\n",
       "</style>\n",
       "<table border=\"1\" class=\"dataframe\">\n",
       "  <thead>\n",
       "    <tr style=\"text-align: right;\">\n",
       "      <th></th>\n",
       "      <th>Efternamn</th>\n",
       "      <th>Antal bärare_x</th>\n",
       "      <th>Förnamn</th>\n",
       "      <th>Antal bärare_y</th>\n",
       "    </tr>\n",
       "  </thead>\n",
       "  <tbody>\n",
       "    <tr>\n",
       "      <th>0</th>\n",
       "      <td>A</td>\n",
       "      <td>3</td>\n",
       "      <td>A</td>\n",
       "      <td>942</td>\n",
       "    </tr>\n",
       "    <tr>\n",
       "      <th>1</th>\n",
       "      <td>AADAM</td>\n",
       "      <td>22</td>\n",
       "      <td>AADAM</td>\n",
       "      <td>10</td>\n",
       "    </tr>\n",
       "    <tr>\n",
       "      <th>2</th>\n",
       "      <td>AADAN</td>\n",
       "      <td>172</td>\n",
       "      <td>AADAN</td>\n",
       "      <td>44</td>\n",
       "    </tr>\n",
       "    <tr>\n",
       "      <th>3</th>\n",
       "      <td>AADEN</td>\n",
       "      <td>27</td>\n",
       "      <td>AADEN</td>\n",
       "      <td>8</td>\n",
       "    </tr>\n",
       "    <tr>\n",
       "      <th>4</th>\n",
       "      <td>AAGAARD</td>\n",
       "      <td>60</td>\n",
       "      <td>AAGAARD</td>\n",
       "      <td>16</td>\n",
       "    </tr>\n",
       "    <tr>\n",
       "      <th>...</th>\n",
       "      <td>...</td>\n",
       "      <td>...</td>\n",
       "      <td>...</td>\n",
       "      <td>...</td>\n",
       "    </tr>\n",
       "    <tr>\n",
       "      <th>20427</th>\n",
       "      <td>ÖZNUR</td>\n",
       "      <td>10</td>\n",
       "      <td>ÖZNUR</td>\n",
       "      <td>33</td>\n",
       "    </tr>\n",
       "    <tr>\n",
       "      <th>20428</th>\n",
       "      <td>ØSTERGAARD</td>\n",
       "      <td>27</td>\n",
       "      <td>ØSTERGAARD</td>\n",
       "      <td>6</td>\n",
       "    </tr>\n",
       "    <tr>\n",
       "      <th>20429</th>\n",
       "      <td>ÜLKER</td>\n",
       "      <td>21</td>\n",
       "      <td>ÜLKER</td>\n",
       "      <td>13</td>\n",
       "    </tr>\n",
       "    <tr>\n",
       "      <th>20430</th>\n",
       "      <td>ÜMIT</td>\n",
       "      <td>2</td>\n",
       "      <td>ÜMIT</td>\n",
       "      <td>8</td>\n",
       "    </tr>\n",
       "    <tr>\n",
       "      <th>20431</th>\n",
       "      <td>ÜSTÜN</td>\n",
       "      <td>24</td>\n",
       "      <td>ÜSTÜN</td>\n",
       "      <td>3</td>\n",
       "    </tr>\n",
       "  </tbody>\n",
       "</table>\n",
       "<p>20432 rows × 4 columns</p>\n",
       "</div>"
      ],
      "text/plain": [
       "        Efternamn Antal bärare_x     Förnamn Antal bärare_y\n",
       "0               A              3           A            942\n",
       "1           AADAM             22       AADAM             10\n",
       "2           AADAN            172       AADAN             44\n",
       "3           AADEN             27       AADEN              8\n",
       "4         AAGAARD             60     AAGAARD             16\n",
       "...           ...            ...         ...            ...\n",
       "20427       ÖZNUR             10       ÖZNUR             33\n",
       "20428  ØSTERGAARD             27  ØSTERGAARD              6\n",
       "20429       ÜLKER             21       ÜLKER             13\n",
       "20430        ÜMIT              2        ÜMIT              8\n",
       "20431       ÜSTÜN             24       ÜSTÜN              3\n",
       "\n",
       "[20432 rows x 4 columns]"
      ]
     },
     "execution_count": 74,
     "metadata": {},
     "output_type": "execute_result"
    }
   ],
   "source": [
    "m1"
   ]
  },
  {
   "cell_type": "code",
   "execution_count": 139,
   "metadata": {},
   "outputs": [],
   "source": [
    "\n",
    "\"\"\"def get_name(input_name):\n",
    "    name = input_name.upper()\n",
    "    \n",
    "    num_efternamn = efternamn.query(\"Efternamn=='{}'\".format(name))['Antal bärare']\n",
    "    num_för_kvinn = för_kvinn.query(\"Förnamn=='{}'\".format(name))['Antal bärare']\n",
    "    num_för_man = för_man.query(\"Förnamn=='{}'\".format(name))['Antal bärare']\n",
    "    num_till_man = till_man.query(\"Tilltalsnamn=='{}'\".format(name))['Antal bärare']\n",
    "    num_till_kvin = till_kvin.query(\"Tilltalsnamn=='{}'\".format(name))['Antal bärare']\n",
    "    \n",
    "    num_till_kvin = int(num_till_kvin.values[0].replace(\"\\xa0\", \"\")) if len(num_till_kvin)>0 else 0\n",
    "    num_till_man = int(num_till_man.values[0].replace(\"\\xa0\", \"\")) if len(num_till_man)>0 else 0\n",
    "    num_för_man = int(num_för_man.values[0].replace(\"\\xa0\", \"\")) if len(num_för_man)>0 else 0\n",
    "    num_för_kvinn = int(num_för_kvinn.values[0].replace(\"\\xa0\", \"\")) if len(num_för_kvinn)>0 else 0\n",
    "    num_efternamn = int(num_efternamn.values[0].replace(\"\\xa0\", \"\")) if len(num_efternamn)>0 else 0\n",
    "    print(num_till_kvin, num_till_man, num_för_man,num_för_kvinn,num_efternamn)\n",
    "\"\"\""
   ]
  },
  {
   "cell_type": "code",
   "execution_count": 141,
   "metadata": {},
   "outputs": [
    {
     "name": "stdout",
     "output_type": "stream",
     "text": [
      "15580 7 15 19962 6\n"
     ]
    }
   ],
   "source": [
    "get_name(\"alva\")"
   ]
  },
  {
   "cell_type": "code",
   "execution_count": 147,
   "metadata": {},
   "outputs": [],
   "source": [
    "efternamn['Antal bärare'] = efternamn['Antal bärare'].str.replace('\\xa0', '')\n",
    "för_kvinn['Antal bärare'] = för_kvinn['Antal bärare'].str.replace('\\xa0', '')\n",
    "för_man['Antal bärare'] = för_man['Antal bärare'].str.replace('\\xa0', '')\n",
    "till_man['Antal bärare'] = till_man['Antal bärare'].str.replace('\\xa0', '')\n",
    "till_kvin['Antal bärare'] = till_kvin['Antal bärare'].str.replace('\\xa0', '')"
   ]
  },
  {
   "cell_type": "code",
   "execution_count": 157,
   "metadata": {},
   "outputs": [],
   "source": [
    "till_kvin.to_csv(\"data/tilltalsnamn_kvinnor.csv\", index=False)"
   ]
  },
  {
   "cell_type": "code",
   "execution_count": 150,
   "metadata": {},
   "outputs": [
    {
     "data": {
      "text/plain": [
       "array(['19962'], dtype=object)"
      ]
     },
     "execution_count": 150,
     "metadata": {},
     "output_type": "execute_result"
    }
   ],
   "source": [
    "num_för_kvinn = för_kvinn.query(\"Förnamn=='{}'\".format(\"ALVA\"))['Antal bärare']\n",
    "num_för_kvinn.values"
   ]
  },
  {
   "cell_type": "code",
   "execution_count": 158,
   "metadata": {},
   "outputs": [],
   "source": [
    "efternamn = pd.read_csv(\"data/Efternamn.csv\")\n",
    "förnamn_kvinnor = pd.read_csv(\"data/Förnamn_kvinnor.csv\")\n",
    "förnamn_män = pd.read_csv(\"data/Förnamn_män.csv\")\n",
    "tilltalsnamn_kvinnor = pd.read_csv(\"data/tilltalsnamn_kvinnor.csv\")\n",
    "tilltalsnamn_män = pd.read_csv(\"data/tilltalsnamn_män.csv\")"
   ]
  },
  {
   "cell_type": "code",
   "execution_count": 163,
   "metadata": {},
   "outputs": [],
   "source": [
    "def get_name(input_name):\n",
    "    name = input_name.upper()\n",
    "    \n",
    "    num_efternamn = efternamn.query(\"Efternamn=='{}'\".format(name))['Antal bärare']\n",
    "    num_för_kvinn = för_kvinn.query(\"Förnamn=='{}'\".format(name))['Antal bärare']\n",
    "    num_för_man = för_man.query(\"Förnamn=='{}'\".format(name))['Antal bärare']\n",
    "    num_till_man = till_man.query(\"Tilltalsnamn=='{}'\".format(name))['Antal bärare']\n",
    "    num_till_kvin = till_kvin.query(\"Tilltalsnamn=='{}'\".format(name))['Antal bärare']\n",
    "    \n",
    "    num_till_kvin = int(num_till_kvin.values[0]) if len(num_till_kvin)>0 else 0\n",
    "    num_till_man = int(num_till_man.values[0]) if len(num_till_man)>0 else 0\n",
    "    num_för_man = int(num_för_man.values[0]) if len(num_för_man)>0 else 0\n",
    "    num_för_kvinn = int(num_för_kvinn.values[0]) if len(num_för_kvinn)>0 else 0\n",
    "    num_efternamn = int(num_efternamn.values[0]) if len(num_efternamn)>0 else 0\n",
    "    \n",
    "    return {\n",
    "        \"efternamn\":num_efternamn,\n",
    "        \"förnamn_kvinnor\":num_för_kvinn,\n",
    "        \"förnamn_män\":num_för_man,\n",
    "        \"tilltalsnamn_män\":num_till_man,\n",
    "        \"tilltalsnamn_kvinnor\":num_till_kvin,\n",
    "        \n",
    "    }"
   ]
  },
  {
   "cell_type": "code",
   "execution_count": 164,
   "metadata": {},
   "outputs": [
    {
     "data": {
      "text/plain": [
       "{'efternamn': 6,\n",
       " 'förnamn_kvinnor': 19962,\n",
       " 'förnamn_män': 15,\n",
       " 'tilltalsnamn_män': 7,\n",
       " 'tilltalsnamn_kvinnor': 15580}"
      ]
     },
     "execution_count": 164,
     "metadata": {},
     "output_type": "execute_result"
    }
   ],
   "source": [
    "get_name(\"alva\")"
   ]
  },
  {
   "cell_type": "code",
   "execution_count": null,
   "metadata": {},
   "outputs": [],
   "source": []
  }
 ],
 "metadata": {
  "kernelspec": {
   "display_name": "ygpt",
   "language": "python",
   "name": "python3"
  },
  "language_info": {
   "codemirror_mode": {
    "name": "ipython",
    "version": 3
   },
   "file_extension": ".py",
   "mimetype": "text/x-python",
   "name": "python",
   "nbconvert_exporter": "python",
   "pygments_lexer": "ipython3",
   "version": "3.9.18"
  }
 },
 "nbformat": 4,
 "nbformat_minor": 2
}
